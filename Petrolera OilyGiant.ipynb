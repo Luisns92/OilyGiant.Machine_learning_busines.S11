{
 "cells": [
  {
   "cell_type": "markdown",
   "metadata": {},
   "source": [
    "# ¿Cuáles es la región con mayor potencial de ganancias?\n",
    "---\n",
    "La industria petrolera OilyGiant quiere saber los mejores 200 lugares para abrir pozos de extracción.  \n",
    "- El objetivo de este proyecto es diseñar un modelo predictivo eficiente que nos proporcione la información necesria para predecir las zonas de extracción que podrían tener las más altas remuneraciones con un riesgo de error suficientemente bajo. Utilizaremos la técnica de bootstrapping para calcular el riesgo con un intervalo de confianza del 95%."
   ]
  },
  {
   "cell_type": "markdown",
   "metadata": {},
   "source": [
    "## Análisis y limpieza de datos"
   ]
  },
  {
   "cell_type": "code",
   "execution_count": null,
   "metadata": {},
   "outputs": [],
   "source": [
    "# Importar Pandas y Cargar datos\n",
    "import pandas as pd\n",
    "import numpy as np\n",
    "df_0 = pd.read_csv('/datasets/geo_data_0.csv')\n",
    "df_1 = pd.read_csv('/datasets/geo_data_1.csv')\n",
    "df_2 = pd.read_csv('/datasets/geo_data_2.csv')"
   ]
  },
  {
   "cell_type": "markdown",
   "metadata": {},
   "source": [
    "### Examinación y análisis datos"
   ]
  },
  {
   "cell_type": "code",
   "execution_count": null,
   "metadata": {
    "scrolled": true
   },
   "outputs": [
    {
     "name": "stdout",
     "output_type": "stream",
     "text": [
      "<class 'pandas.core.frame.DataFrame'>\n",
      "RangeIndex: 100000 entries, 0 to 99999\n",
      "Data columns (total 5 columns):\n",
      " #   Column   Non-Null Count   Dtype  \n",
      "---  ------   --------------   -----  \n",
      " 0   id       100000 non-null  object \n",
      " 1   f0       100000 non-null  float64\n",
      " 2   f1       100000 non-null  float64\n",
      " 3   f2       100000 non-null  float64\n",
      " 4   product  100000 non-null  float64\n",
      "dtypes: float64(4), object(1)\n",
      "memory usage: 3.8+ MB\n",
      "None\n",
      "\n",
      "<class 'pandas.core.frame.DataFrame'>\n",
      "RangeIndex: 100000 entries, 0 to 99999\n",
      "Data columns (total 5 columns):\n",
      " #   Column   Non-Null Count   Dtype  \n",
      "---  ------   --------------   -----  \n",
      " 0   id       100000 non-null  object \n",
      " 1   f0       100000 non-null  float64\n",
      " 2   f1       100000 non-null  float64\n",
      " 3   f2       100000 non-null  float64\n",
      " 4   product  100000 non-null  float64\n",
      "dtypes: float64(4), object(1)\n",
      "memory usage: 3.8+ MB\n",
      "None\n",
      "\n",
      "<class 'pandas.core.frame.DataFrame'>\n",
      "RangeIndex: 100000 entries, 0 to 99999\n",
      "Data columns (total 5 columns):\n",
      " #   Column   Non-Null Count   Dtype  \n",
      "---  ------   --------------   -----  \n",
      " 0   id       100000 non-null  object \n",
      " 1   f0       100000 non-null  float64\n",
      " 2   f1       100000 non-null  float64\n",
      " 3   f2       100000 non-null  float64\n",
      " 4   product  100000 non-null  float64\n",
      "dtypes: float64(4), object(1)\n",
      "memory usage: 3.8+ MB\n",
      "None\n",
      "\n"
     ]
    }
   ],
   "source": [
    "# Examinar datos\n",
    "print(df_0.info())\n",
    "print()\n",
    "print(df_1.info())\n",
    "print()\n",
    "print(df_2.info())\n",
    "print()"
   ]
  },
  {
   "cell_type": "code",
   "execution_count": null,
   "metadata": {
    "scrolled": true
   },
   "outputs": [
    {
     "name": "stdout",
     "output_type": "stream",
     "text": [
      "Región 1:\n",
      "          id        f0        f1        f2     product\n",
      "16193  x29US -0.077578  0.190152  6.438142  109.358195\n",
      "4077   uMT91  1.866091  0.183872 -0.427140   99.199093\n",
      "85803  XBGPU  0.369470 -0.298553  0.037431   32.346583\n",
      "\n",
      "Región 2:\n",
      "          id        f0        f1        f2    product\n",
      "49724  e4EKC -8.584535 -5.430919  0.998738  30.132364\n",
      "86475  e8LvC -4.912259 -3.689451  2.997680  84.038886\n",
      "58541  xOTFi  4.909936 -5.418065  1.005010  30.132364\n",
      "\n",
      "Región 3:\n",
      "          id        f0        f1        f2     product\n",
      "80974  tfccY -0.022556 -2.084414  2.008469  107.960421\n",
      "25021  igV7N  1.516232 -3.200092  3.418939   81.300058\n",
      "88231  565pX -0.143192 -0.663331  1.661260  105.239730\n",
      "\n"
     ]
    }
   ],
   "source": [
    "# Estudiar datos\n",
    "print('Región 1:')\n",
    "print(df_0.sample(3))\n",
    "print()\n",
    "print('Región 2:')\n",
    "print(df_1.sample(3))\n",
    "print()\n",
    "print('Región 3:')\n",
    "print(df_2.sample(3))\n",
    "print()"
   ]
  },
  {
   "cell_type": "code",
   "execution_count": 14,
   "metadata": {
    "scrolled": true
   },
   "outputs": [
    {
     "data": {
      "text/plain": [
       "0"
      ]
     },
     "execution_count": 14,
     "metadata": {},
     "output_type": "execute_result"
    }
   ],
   "source": [
    "df_0.duplicated().sum()"
   ]
  },
  {
   "cell_type": "code",
   "execution_count": 15,
   "metadata": {},
   "outputs": [
    {
     "data": {
      "text/plain": [
       "0"
      ]
     },
     "execution_count": 15,
     "metadata": {},
     "output_type": "execute_result"
    }
   ],
   "source": [
    "df_1.duplicated().sum()"
   ]
  },
  {
   "cell_type": "code",
   "execution_count": 16,
   "metadata": {},
   "outputs": [
    {
     "data": {
      "text/plain": [
       "0"
      ]
     },
     "execution_count": 16,
     "metadata": {},
     "output_type": "execute_result"
    }
   ],
   "source": [
    "df_2.duplicated().sum()"
   ]
  },
  {
   "cell_type": "markdown",
   "metadata": {},
   "source": [
    "#### Conclusión \n",
    "Las bases de datos están estructurados de la misma manera y no necesitan ser formateados."
   ]
  },
  {
   "cell_type": "markdown",
   "metadata": {},
   "source": [
    "## Predicción de volúmen promedio de reservas y RMSE"
   ]
  },
  {
   "cell_type": "code",
   "execution_count": null,
   "metadata": {},
   "outputs": [],
   "source": [
    "# Creación de función\n",
    "def prediction_valid_rmse_mean(df):\n",
    "    # Cargamos librerias necesarias\n",
    "    from sklearn.model_selection import train_test_split\n",
    "    from sklearn.linear_model import LinearRegression\n",
    "    from sklearn.metrics import mean_squared_error\n",
    "\n",
    "    # Seleccionamos features y target\n",
    "    features = df.drop(['id', 'product'], axis=1)\n",
    "    target = df['product']\n",
    "\n",
    "    # Dividimos base de datos 75-25\n",
    "    random = 23451\n",
    "    features_train, features_valid, target_train, target_valid = train_test_split(\n",
    "        features, target, test_size=0.25, random_state=random)\n",
    "\n",
    "    # Guardar indices\n",
    "    index_valid = target_valid.index\n",
    "    ids_valid = df.loc[index_valid, 'id']\n",
    "\n",
    "    # Entrenamos modelo y predecimos resultados\n",
    "    model = LinearRegression()\n",
    "    model.fit(features_train, target_train)\n",
    "    predictions_valid = model.predict(features_valid)\n",
    "    rmse = (mean_squared_error(target_valid, predictions_valid))**0.5\n",
    "    mean_reserves = predictions_valid.mean()\n",
    "\n",
    "   # Guardamos resultados en un dataframe del conjunto de validación\n",
    "    df_prediction_valid = pd.DataFrame({\n",
    "        'id': ids_valid,\n",
    "        'predictions': predictions_valid,\n",
    "        'real_value': target_valid,\n",
    "        'difference': predictions_valid - target_valid.values})\n",
    "\n",
    "    return df_prediction_valid, rmse, mean_reserves"
   ]
  },
  {
   "cell_type": "markdown",
   "metadata": {},
   "source": [
    "### Mostramos los resultados por región"
   ]
  },
  {
   "cell_type": "code",
   "execution_count": null,
   "metadata": {},
   "outputs": [],
   "source": [
    "# Usamos la función de regresión lineal y guardamos resultados\n",
    "predictions_valid_df_r1, rmse_r1, mean_reserves_r1 = prediction_valid_rmse_mean(\n",
    "    df_0)\n",
    "predictions_valid_df_r2, rmse_r2, mean_reserves_r2 = prediction_valid_rmse_mean(\n",
    "    df_1)\n",
    "predictions_valid_df_r3, rmse_r3, mean_reserves_r3 = prediction_valid_rmse_mean(\n",
    "    df_2)"
   ]
  },
  {
   "cell_type": "code",
   "execution_count": null,
   "metadata": {},
   "outputs": [
    {
     "name": "stdout",
     "output_type": "stream",
     "text": [
      "Los resultados de la región 1 son:\n",
      "El RECM del modelo de regresión lineal en el conjunto de validación predice un alejamiento aproximado de 37.75 mil barriles del valor real.\n",
      "El volúmen promedio de reservas predicho es de: 92.48 mil barriles.\n",
      "\n",
      "Los resultados de la región 2 son:\n",
      "El RECM del modelo de regresión lineal en el conjunto de validación predice un alejamiento aproximado de 0.88 mil barriles del valor real.\n",
      "El volúmen promedio de reservas predicho es de: 69.05 mil barriles.\n",
      "\n",
      "Los resultados de la región 3 son:\n",
      "El RECM del modelo de regresión lineal en el conjunto de validación predice un alejamiento aproximado de 40.13 mil barriles del valor real.\n",
      "El volúmen promedio de reservas predicho es de: 94.77 mil barriles.\n",
      "\n"
     ]
    }
   ],
   "source": [
    "# Imprimimos todos los resultados\n",
    "print(f'Los resultados de la región 1 son:')\n",
    "print(\n",
    "    f'El RECM del modelo de regresión lineal en el conjunto de validación predice un alejamiento aproximado de {rmse_r1.round(2)} mil barriles del valor real.')\n",
    "print(\n",
    "    f'El volúmen promedio de reservas predicho es de: {mean_reserves_r1.round(2)} mil barriles.\\n')\n",
    "print(f'Los resultados de la región 2 son:')\n",
    "print(\n",
    "    f'El RECM del modelo de regresión lineal en el conjunto de validación predice un alejamiento aproximado de {rmse_r2.round(2)} mil barriles del valor real.')\n",
    "print(\n",
    "    f'El volúmen promedio de reservas predicho es de: {mean_reserves_r2.round(2)} mil barriles.\\n')\n",
    "print(f'Los resultados de la región 3 son:')\n",
    "print(\n",
    "    f'El RECM del modelo de regresión lineal en el conjunto de validación predice un alejamiento aproximado de {rmse_r3.round(2)} mil barriles del valor real.')\n",
    "print(\n",
    "    f'El volúmen promedio de reservas predicho es de: {mean_reserves_r3.round(2)} mil barriles.\\n')"
   ]
  },
  {
   "cell_type": "markdown",
   "metadata": {},
   "source": [
    "## Preparación de datos para el cálculo de ganancias"
   ]
  },
  {
   "cell_type": "code",
   "execution_count": null,
   "metadata": {},
   "outputs": [],
   "source": [
    "budget = 100000000\n",
    "choosen_wells = 200\n",
    "break_even_point = 500000\n",
    "break_even_point_barrel = 111.1\n",
    "price_per_barrel = 500000 / 111.1"
   ]
  },
  {
   "cell_type": "markdown",
   "metadata": {},
   "source": [
    "### Conclusión\n",
    "Ningún región alcanza el volúmen de reserva promedio mínimo de 111.1 barriles, esto nos indica que tenemos que seleccionar los mejores pozos y que no podemos dejar la selección al azar.  \n",
    "Necesitamos saber nuestro punto de equilibrio para no perder dinero, en este caso invertiremos 100 millones de dólares para extraer 200 pozos. Necesitamos extraer por lo menos 111.1 barriles de petróleo o lo que es lo mismo 500 mil dólares por pozo para evitar pérdidas.  \n",
    "Ahora, con nuestro modelo debemos elegir los 200 pozos con mejor predicción de cada región. Después de esto necesitamos descubrir:\n",
    "- Que cada pozo produzca por lo menos su punto de equilibrio (500 mil dólares)."
   ]
  },
  {
   "cell_type": "markdown",
   "metadata": {},
   "source": [
    "## Predicción de ganancias potenciales por región"
   ]
  },
  {
   "cell_type": "code",
   "execution_count": null,
   "metadata": {},
   "outputs": [],
   "source": [
    "# Creación de función para todo el dataframe\n",
    "def full_df_prediction(df):\n",
    "    # Cargamos librerias necesarias\n",
    "    from sklearn.model_selection import train_test_split\n",
    "    from sklearn.linear_model import LinearRegression\n",
    "\n",
    "    # Seleccionamos features y target\n",
    "    features = df.drop(['id', 'product'], axis=1)\n",
    "    target = df['product']\n",
    "\n",
    "    # Dividimos base de datos 75-25\n",
    "    random = 23451\n",
    "    features_train, features_valid, target_train, target_valid = train_test_split(\n",
    "        features, target, test_size=0.25, random_state=random)\n",
    "\n",
    "    # Hacemos la predicción de todo el dataframe\n",
    "    model = LinearRegression()\n",
    "    model.fit(features_train, target_train)\n",
    "    predictions_df = model.predict(features)\n",
    "\n",
    "    # Guardamos resultados en un dataframe COMPLETO\n",
    "    df_prediction = pd.DataFrame({\n",
    "        'id': df['id'],\n",
    "        'predictions': predictions_df,\n",
    "        'real_value': target,\n",
    "        'difference': target.values - predictions_df})\n",
    "\n",
    "    # Seleccionamos los 200 mejores pozos\n",
    "    df_prediction_better_200_wells = df_prediction.sort_values(\n",
    "        by='predictions', ascending=False).head(choosen_wells)\n",
    "\n",
    "    # Calculamos la ganancia potencial\n",
    "    potencial_profits = ((((df_prediction_better_200_wells['predictions'].sum(\n",
    "    )) * price_per_barrel)) - budget).round(2)\n",
    "\n",
    "    return df_prediction, df_prediction_better_200_wells, potencial_profits"
   ]
  },
  {
   "cell_type": "code",
   "execution_count": null,
   "metadata": {
    "scrolled": true
   },
   "outputs": [
    {
     "name": "stdout",
     "output_type": "stream",
     "text": [
      "46869954.67\n",
      "25257448.37\n",
      "41029221.65\n",
      "\n"
     ]
    }
   ],
   "source": [
    "# Mostramos las ganancias potenciales por región\n",
    "predictions_df_r1, better_200_wells_r1, potencial_profits_r1 = full_df_prediction(\n",
    "    df_0)\n",
    "predictions_df_r2, better_200_wells_r2, potencial_profits_r2 = full_df_prediction(\n",
    "    df_1)\n",
    "predictions_df_r3, better_200_wells_r3, potencial_profits_r3 = full_df_prediction(\n",
    "    df_2)\n",
    "\n",
    "print(potencial_profits_r1)\n",
    "print(potencial_profits_r2)\n",
    "print(potencial_profits_r3)\n",
    "print()"
   ]
  },
  {
   "cell_type": "markdown",
   "metadata": {},
   "source": [
    "### Conclusión\n",
    "La región 1 predice una ganancia de **\\$46,869.95** millones de dólares.  \n",
    "La región 2 predice una ganancia de **\\$25,257.45** millones de dólares.  \n",
    "La región 3 predice una ganancia de **\\$41,029.22** millones de dólares.  \n",
    "\n",
    "Hasta ahora la **región 1** parece ser la mejor por las siguientes razones:\n",
    "- Tiene el mayor potencial de ganancia con \\$46,869 millones de dólares.\n",
    "- Nuestro modelo arrojo un RMSE aceptable con un error aproximado de 37.75 barriles alejado del promedio.\n",
    "- El volúmen de reservbas predicho es el segundo más alto con 92.48 barriles.  \n",
    "*Nota: La elección puede cambiar más adelante con otros análisis.*\n",
    "\n",
    "\n",
    "\n"
   ]
  },
  {
   "cell_type": "markdown",
   "metadata": {},
   "source": [
    "## Cálculo de riesgos y ganancias por región"
   ]
  },
  {
   "cell_type": "code",
   "execution_count": null,
   "metadata": {},
   "outputs": [],
   "source": [
    "# Cramos función para realizar bootstrapping\n",
    "def real_profit_per_well(best_200, break_even_point=500000, price_per_barrel=(500000 / 111.1), n_samples=1000):\n",
    "    best_200['real_profit_per_well'] = (\n",
    "        best_200['real_value'] * price_per_barrel) - break_even_point\n",
    "\n",
    "    profits = []\n",
    "    for i in range(n_samples):\n",
    "        sample = np.random.choice(\n",
    "            best_200['real_profit_per_well'], replace=True)\n",
    "        profits.append(sample.round(2))\n",
    "\n",
    "    return profits, ((sum(profits)) / len(profits)).round(2), best_200.sort_values(by='real_profit_per_well', ascending=False), best_200['real_profit_per_well'].sum()"
   ]
  },
  {
   "cell_type": "code",
   "execution_count": null,
   "metadata": {},
   "outputs": [
    {
     "name": "stdout",
     "output_type": "stream",
     "text": [
      "Los resultados de la región 1 son:\n",
      " -Beneficio promedio real: 180151.15,\n",
      " -Intervalo de confianza del 5% igual a: [-46294.64 320131.59],\n",
      " -Riesgo equivalente a: 4.4%.\n",
      "Los resultados de la región 2 son:\n",
      " -Beneficio promedio real: 120816.42,\n",
      " -Intervalo de confianza del 5% igual a: [120816.42 120816.42],\n",
      " -Riesgo equivalente a: 0.0%.\n",
      "Los resultados de la región 3 son:\n",
      " -Beneficio promedio real: 123840.94,\n",
      " -Intervalo de confianza del 5% igual a: [-180574.35  319707.71],\n",
      " -Riesgo equivalente a: 17.1%.\n"
     ]
    }
   ],
   "source": [
    "# Utilizamos función y presentamos resultados\n",
    "profits_r1, mean_profit_r1, df_profits_r1, total_profit_r1 = real_profit_per_well(\n",
    "    better_200_wells_r1)\n",
    "profits_r2, mean_profit_r2, df_profits_r2, total_profit_r2 = real_profit_per_well(\n",
    "    better_200_wells_r2)\n",
    "profits_r3, mean_profit_r3, df_profits_r3, total_profit_r3 = real_profit_per_well(\n",
    "    better_200_wells_r3)\n",
    "\n",
    "print(f'Los resultados de la región 1 son:')\n",
    "print(f' -Beneficio promedio real: {mean_profit_r1},')\n",
    "print(\n",
    "    f' -Intervalo de confianza del 5% igual a: {np.percentile(profits_r1, [2.5, 97.5]).round(2)},')\n",
    "print(\n",
    "    f' -Riesgo equivalente a: {((np.array(profits_r1) < 0).mean() * 100).round(2)}%.')\n",
    "\n",
    "print(f'Los resultados de la región 2 son:')\n",
    "print(f' -Beneficio promedio real: {mean_profit_r2},')\n",
    "print(\n",
    "    f' -Intervalo de confianza del 5% igual a: {np.percentile(profits_r2, [2.5, 97.5]).round(2)},')\n",
    "print(\n",
    "    f' -Riesgo equivalente a: {((np.array(profits_r2) < 0).mean() * 100).round(2)}%.')\n",
    "\n",
    "print(f'Los resultados de la región 3 son:')\n",
    "print(f' -Beneficio promedio real: {mean_profit_r3},')\n",
    "print(\n",
    "    f' -Intervalo de confianza del 5% igual a: {np.percentile(profits_r3, [2.5, 97.5]).round(2)},')\n",
    "print(\n",
    "    f' -Riesgo equivalente a: {((np.array(profits_r3) < 0).mean() * 100).round(2)}%.')"
   ]
  },
  {
   "cell_type": "markdown",
   "metadata": {},
   "source": [
    "### Conclusión\n",
    "La región 1 tuvo una ganancia real promedio de **\\$180,151.15** dólares por pozo, con un 4.4\\% de riesgo de generar pérdida.  \n",
    "La región 2 tuvo una ganancia real promedio de **\\$120,816.42** dólares por pozo, con un 0.0\\% de riesgo de generar pérdida.  \n",
    "La región 3 tuvo una ganancia real promedio de **\\$123,840.94,** dólares por pozo, con un 17.1\\% de riesgo de generar pérdida.\n",
    "\n",
    "¿Qué decisión tomar?  \n",
    "En esta situación debemos elegir entre obtener \\$120,816.42 dólares por pozo **sin** riesgo de pérdida o aceptar un riesgo de pérdida de 4.4\\% por pozo pero con un promedio de ganancia mayor por pozo con \\$180,151.15.\n",
    "\n",
    "\n",
    "**Elección final**  \n",
    "Recomiendo ampliamente elegir por segunda ocasión la **región 1**, por un riesgo de pérdida por pozo de tan solo 4.4\\% accedemos a un margen de ganancia mayor aproximado al 50\\% comparado a la región 2. La región 3 está completamente descartada ya que el riesgo de seleccionar un pozo con pérdida es del 17.1\\% y el promedio de ganancia casi identico a la región 2."
   ]
  },
  {
   "cell_type": "markdown",
   "metadata": {},
   "source": []
  }
 ],
 "metadata": {
  "ExecuteTimeLog": [
   {
    "duration": 579,
    "start_time": "2025-09-27T23:43:41.971Z"
   },
   {
    "duration": 26,
    "start_time": "2025-09-27T23:43:42.552Z"
   },
   {
    "duration": 14,
    "start_time": "2025-09-27T23:43:42.580Z"
   },
   {
    "duration": 4,
    "start_time": "2025-09-27T23:43:42.601Z"
   },
   {
    "duration": 615,
    "start_time": "2025-09-27T23:43:42.608Z"
   },
   {
    "duration": 5,
    "start_time": "2025-09-27T23:43:43.301Z"
   },
   {
    "duration": 3,
    "start_time": "2025-09-27T23:43:43.307Z"
   },
   {
    "duration": 6,
    "start_time": "2025-09-27T23:43:43.312Z"
   },
   {
    "duration": 4,
    "start_time": "2025-09-27T23:43:43.322Z"
   },
   {
    "duration": 389,
    "start_time": "2025-09-27T23:43:43.328Z"
   },
   {
    "duration": 81,
    "start_time": "2025-09-27T23:43:43.720Z"
   },
   {
    "duration": 142,
    "start_time": "2025-09-27T23:43:43.803Z"
   },
   {
    "duration": 5,
    "start_time": "2025-09-27T23:43:43.947Z"
   },
   {
    "duration": 4,
    "start_time": "2025-09-27T23:43:43.955Z"
   },
   {
    "duration": 4,
    "start_time": "2025-09-27T23:43:43.960Z"
   },
   {
    "duration": 43,
    "start_time": "2025-09-27T23:43:43.966Z"
   },
   {
    "duration": 230,
    "start_time": "2025-09-27T23:43:44.010Z"
   },
   {
    "duration": 131,
    "start_time": "2025-09-27T23:44:40.747Z"
   },
   {
    "duration": 8,
    "start_time": "2025-09-27T23:45:32.218Z"
   },
   {
    "duration": 10,
    "start_time": "2025-09-27T23:45:54.032Z"
   },
   {
    "duration": 5,
    "start_time": "2025-09-27T23:46:15.266Z"
   },
   {
    "duration": 15,
    "start_time": "2025-09-27T23:46:22.230Z"
   },
   {
    "duration": 6,
    "start_time": "2025-09-27T23:46:30.084Z"
   },
   {
    "duration": 4,
    "start_time": "2025-09-27T23:46:40.152Z"
   },
   {
    "duration": 7,
    "start_time": "2025-09-27T23:47:00.594Z"
   },
   {
    "duration": 4,
    "start_time": "2025-09-27T23:47:05.063Z"
   },
   {
    "duration": 6,
    "start_time": "2025-09-27T23:47:22.530Z"
   },
   {
    "duration": 4,
    "start_time": "2025-09-27T23:48:26.035Z"
   },
   {
    "duration": 4,
    "start_time": "2025-09-27T23:48:33.599Z"
   },
   {
    "duration": 4,
    "start_time": "2025-09-27T23:48:43.360Z"
   },
   {
    "duration": 4,
    "start_time": "2025-09-27T23:48:43.559Z"
   },
   {
    "duration": 9,
    "start_time": "2025-09-27T23:53:42.239Z"
   },
   {
    "duration": 4,
    "start_time": "2025-09-27T23:55:59.463Z"
   },
   {
    "duration": 4,
    "start_time": "2025-09-27T23:56:06.435Z"
   },
   {
    "duration": 13,
    "start_time": "2025-09-27T23:56:33.930Z"
   },
   {
    "duration": 13,
    "start_time": "2025-09-27T23:56:58.890Z"
   },
   {
    "duration": 204,
    "start_time": "2025-09-27T23:57:14.959Z"
   },
   {
    "duration": 12,
    "start_time": "2025-09-27T23:57:22.938Z"
   },
   {
    "duration": 222,
    "start_time": "2025-09-27T23:57:32.989Z"
   },
   {
    "duration": 39,
    "start_time": "2025-09-27T23:57:46.536Z"
   },
   {
    "duration": 15,
    "start_time": "2025-09-28T00:00:53.408Z"
   },
   {
    "duration": 45,
    "start_time": "2025-09-28T00:01:01.476Z"
   },
   {
    "duration": 43,
    "start_time": "2025-09-28T00:01:19.502Z"
   },
   {
    "duration": 42,
    "start_time": "2025-09-28T00:01:28.429Z"
   },
   {
    "duration": 2,
    "start_time": "2025-09-28T00:02:37.118Z"
   },
   {
    "duration": 25,
    "start_time": "2025-09-28T00:03:29.920Z"
   },
   {
    "duration": 3,
    "start_time": "2025-09-28T00:03:48.655Z"
   },
   {
    "duration": 23,
    "start_time": "2025-09-28T00:03:51.117Z"
   },
   {
    "duration": 24,
    "start_time": "2025-09-28T00:04:09.795Z"
   },
   {
    "duration": 3,
    "start_time": "2025-09-28T00:04:29.269Z"
   },
   {
    "duration": 24,
    "start_time": "2025-09-28T00:04:29.621Z"
   },
   {
    "duration": 3,
    "start_time": "2025-09-28T00:04:57.960Z"
   },
   {
    "duration": 20,
    "start_time": "2025-09-28T00:04:58.190Z"
   },
   {
    "duration": 3,
    "start_time": "2025-09-28T00:05:05.797Z"
   },
   {
    "duration": 3,
    "start_time": "2025-09-28T00:05:06.008Z"
   },
   {
    "duration": 19,
    "start_time": "2025-09-28T00:05:10.150Z"
   },
   {
    "duration": 4,
    "start_time": "2025-09-28T00:06:25.014Z"
   },
   {
    "duration": 14,
    "start_time": "2025-09-28T00:06:25.351Z"
   },
   {
    "duration": 13,
    "start_time": "2025-09-28T00:06:48.079Z"
   },
   {
    "duration": 506,
    "start_time": "2025-09-28T00:07:16.565Z"
   },
   {
    "duration": 28,
    "start_time": "2025-09-28T00:07:17.073Z"
   },
   {
    "duration": 14,
    "start_time": "2025-09-28T00:07:17.103Z"
   },
   {
    "duration": 5,
    "start_time": "2025-09-28T00:07:17.119Z"
   },
   {
    "duration": 675,
    "start_time": "2025-09-28T00:07:17.126Z"
   },
   {
    "duration": 5,
    "start_time": "2025-09-28T00:07:17.804Z"
   },
   {
    "duration": 3,
    "start_time": "2025-09-28T00:07:17.813Z"
   },
   {
    "duration": 5,
    "start_time": "2025-09-28T00:07:17.818Z"
   },
   {
    "duration": 5,
    "start_time": "2025-09-28T00:07:17.825Z"
   },
   {
    "duration": 471,
    "start_time": "2025-09-28T00:07:17.831Z"
   },
   {
    "duration": 3,
    "start_time": "2025-09-28T00:07:18.304Z"
   },
   {
    "duration": 4,
    "start_time": "2025-09-28T00:07:18.309Z"
   },
   {
    "duration": 209,
    "start_time": "2025-09-28T00:07:18.315Z"
   },
   {
    "duration": 8,
    "start_time": "2025-09-28T00:07:18.527Z"
   },
   {
    "duration": 4,
    "start_time": "2025-09-28T00:07:18.537Z"
   },
   {
    "duration": 5,
    "start_time": "2025-09-28T00:07:18.543Z"
   },
   {
    "duration": 4,
    "start_time": "2025-09-28T00:07:18.550Z"
   },
   {
    "duration": 47,
    "start_time": "2025-09-28T00:07:18.556Z"
   },
   {
    "duration": 235,
    "start_time": "2025-09-28T00:07:18.604Z"
   },
   {
    "duration": 13,
    "start_time": "2025-09-28T00:08:07.373Z"
   },
   {
    "duration": 3,
    "start_time": "2025-09-28T00:08:50.528Z"
   },
   {
    "duration": 5,
    "start_time": "2025-09-28T00:08:50.799Z"
   },
   {
    "duration": 3,
    "start_time": "2025-09-28T00:09:03.705Z"
   },
   {
    "duration": 3,
    "start_time": "2025-09-28T00:10:49.249Z"
   },
   {
    "duration": 5,
    "start_time": "2025-09-28T00:10:49.693Z"
   },
   {
    "duration": 3,
    "start_time": "2025-09-28T00:12:33.957Z"
   },
   {
    "duration": 6,
    "start_time": "2025-09-28T00:12:34.142Z"
   },
   {
    "duration": 3,
    "start_time": "2025-09-28T00:12:40.766Z"
   },
   {
    "duration": 10,
    "start_time": "2025-09-28T00:12:40.950Z"
   },
   {
    "duration": 5,
    "start_time": "2025-09-28T00:13:08.487Z"
   },
   {
    "duration": 11,
    "start_time": "2025-09-28T00:13:08.734Z"
   },
   {
    "duration": 3,
    "start_time": "2025-09-28T00:13:12.688Z"
   },
   {
    "duration": 11,
    "start_time": "2025-09-28T00:13:12.908Z"
   },
   {
    "duration": 4,
    "start_time": "2025-09-28T00:13:58.054Z"
   },
   {
    "duration": 11,
    "start_time": "2025-09-28T00:13:58.284Z"
   },
   {
    "duration": 3,
    "start_time": "2025-09-28T00:14:03.143Z"
   },
   {
    "duration": 11,
    "start_time": "2025-09-28T00:14:04.485Z"
   },
   {
    "duration": 7,
    "start_time": "2025-09-28T00:15:00.414Z"
   },
   {
    "duration": 6,
    "start_time": "2025-09-28T00:15:00.659Z"
   },
   {
    "duration": 381,
    "start_time": "2025-09-28T00:15:01.321Z"
   },
   {
    "duration": 3,
    "start_time": "2025-09-28T00:15:05.271Z"
   },
   {
    "duration": 13,
    "start_time": "2025-09-28T00:15:05.858Z"
   },
   {
    "duration": 3,
    "start_time": "2025-09-28T00:16:02.501Z"
   },
   {
    "duration": 15,
    "start_time": "2025-09-28T00:16:02.868Z"
   },
   {
    "duration": 4,
    "start_time": "2025-09-28T00:16:10.344Z"
   },
   {
    "duration": 3,
    "start_time": "2025-09-28T00:16:16.885Z"
   },
   {
    "duration": 12,
    "start_time": "2025-09-28T00:16:17.089Z"
   },
   {
    "duration": 11,
    "start_time": "2025-09-28T00:18:21.399Z"
   },
   {
    "duration": 4,
    "start_time": "2025-09-28T00:19:25.150Z"
   },
   {
    "duration": 4,
    "start_time": "2025-09-28T00:21:42.734Z"
   },
   {
    "duration": 4,
    "start_time": "2025-09-28T00:22:03.042Z"
   },
   {
    "duration": 38,
    "start_time": "2025-09-28T00:22:03.358Z"
   },
   {
    "duration": 46,
    "start_time": "2025-09-28T00:22:06.894Z"
   },
   {
    "duration": 40,
    "start_time": "2025-09-28T00:22:19.346Z"
   },
   {
    "duration": 3,
    "start_time": "2025-09-28T00:23:34.299Z"
   },
   {
    "duration": 4,
    "start_time": "2025-09-28T00:23:41.627Z"
   },
   {
    "duration": 157,
    "start_time": "2025-09-28T00:23:41.862Z"
   },
   {
    "duration": 7,
    "start_time": "2025-09-28T00:23:42.178Z"
   },
   {
    "duration": 41,
    "start_time": "2025-09-28T00:23:51.548Z"
   },
   {
    "duration": 4,
    "start_time": "2025-09-28T00:25:19.287Z"
   },
   {
    "duration": 52,
    "start_time": "2025-09-28T00:25:19.585Z"
   },
   {
    "duration": 4,
    "start_time": "2025-09-28T00:25:50.519Z"
   },
   {
    "duration": 61,
    "start_time": "2025-09-28T00:25:50.696Z"
   },
   {
    "duration": 4,
    "start_time": "2025-09-28T00:26:27.518Z"
   },
   {
    "duration": 60,
    "start_time": "2025-09-28T00:26:27.843Z"
   },
   {
    "duration": 4,
    "start_time": "2025-09-28T00:26:41.593Z"
   },
   {
    "duration": 46,
    "start_time": "2025-09-28T00:26:42.327Z"
   },
   {
    "duration": 41,
    "start_time": "2025-09-28T00:26:47.435Z"
   },
   {
    "duration": 3,
    "start_time": "2025-09-28T00:27:53.807Z"
   },
   {
    "duration": 5,
    "start_time": "2025-09-28T00:27:59.069Z"
   },
   {
    "duration": 3,
    "start_time": "2025-09-28T00:28:07.753Z"
   },
   {
    "duration": 46,
    "start_time": "2025-09-28T00:28:08.096Z"
   },
   {
    "duration": 186,
    "start_time": "2025-09-28T00:28:08.567Z"
   },
   {
    "duration": 10,
    "start_time": "2025-09-28T00:28:19.868Z"
   },
   {
    "duration": 4,
    "start_time": "2025-09-28T00:29:12.324Z"
   },
   {
    "duration": 57,
    "start_time": "2025-09-28T00:29:12.583Z"
   },
   {
    "duration": 53,
    "start_time": "2025-09-28T00:29:18.397Z"
   },
   {
    "duration": 38,
    "start_time": "2025-09-28T00:29:20.936Z"
   },
   {
    "duration": 5,
    "start_time": "2025-09-28T00:29:23.483Z"
   },
   {
    "duration": 5,
    "start_time": "2025-09-28T00:29:48.297Z"
   },
   {
    "duration": 5,
    "start_time": "2025-09-28T00:29:48.549Z"
   },
   {
    "duration": 116,
    "start_time": "2025-09-28T00:31:10.059Z"
   },
   {
    "duration": 119,
    "start_time": "2025-09-28T00:31:32.639Z"
   },
   {
    "duration": 3,
    "start_time": "2025-09-28T00:31:32.925Z"
   },
   {
    "duration": 4,
    "start_time": "2025-09-28T00:31:33.555Z"
   },
   {
    "duration": 3,
    "start_time": "2025-09-28T00:31:33.949Z"
   },
   {
    "duration": 9,
    "start_time": "2025-09-28T00:31:52.411Z"
   },
   {
    "duration": 3,
    "start_time": "2025-09-28T00:32:11.309Z"
   },
   {
    "duration": 4,
    "start_time": "2025-09-28T00:32:11.770Z"
   },
   {
    "duration": 4,
    "start_time": "2025-09-28T00:32:12.250Z"
   },
   {
    "duration": 5,
    "start_time": "2025-09-28T00:32:19.855Z"
   },
   {
    "duration": 4,
    "start_time": "2025-09-28T00:33:02.932Z"
   },
   {
    "duration": 4,
    "start_time": "2025-09-28T00:33:03.167Z"
   },
   {
    "duration": 4,
    "start_time": "2025-09-28T00:33:03.550Z"
   },
   {
    "duration": 120,
    "start_time": "2025-09-28T00:35:18.231Z"
   },
   {
    "duration": 9,
    "start_time": "2025-09-28T00:35:18.492Z"
   },
   {
    "duration": 7,
    "start_time": "2025-09-28T00:35:21.483Z"
   },
   {
    "duration": 4,
    "start_time": "2025-09-28T00:35:21.837Z"
   },
   {
    "duration": 4,
    "start_time": "2025-09-28T00:35:22.213Z"
   },
   {
    "duration": 11,
    "start_time": "2025-09-28T00:35:53.811Z"
   },
   {
    "duration": 13,
    "start_time": "2025-09-28T00:36:26.378Z"
   },
   {
    "duration": 10,
    "start_time": "2025-09-28T00:37:33.858Z"
   },
   {
    "duration": 21,
    "start_time": "2025-09-28T00:37:47.226Z"
   },
   {
    "duration": 21,
    "start_time": "2025-09-28T00:37:57.773Z"
   },
   {
    "duration": 20,
    "start_time": "2025-09-28T00:38:14.075Z"
   },
   {
    "duration": 9,
    "start_time": "2025-09-28T00:43:26.368Z"
   },
   {
    "duration": 6,
    "start_time": "2025-09-28T00:44:57.037Z"
   },
   {
    "duration": 9,
    "start_time": "2025-09-28T00:47:16.563Z"
   },
   {
    "duration": 9,
    "start_time": "2025-09-28T00:47:40.435Z"
   },
   {
    "duration": 9,
    "start_time": "2025-09-28T00:47:56.607Z"
   },
   {
    "duration": 9,
    "start_time": "2025-09-28T00:49:11.843Z"
   },
   {
    "duration": 9,
    "start_time": "2025-09-28T00:49:25.365Z"
   },
   {
    "duration": 9,
    "start_time": "2025-09-28T00:49:32.331Z"
   },
   {
    "duration": 19,
    "start_time": "2025-09-28T00:50:06.029Z"
   },
   {
    "duration": 9,
    "start_time": "2025-09-28T00:50:44.519Z"
   },
   {
    "duration": 400,
    "start_time": "2025-09-28T00:53:09.243Z"
   },
   {
    "duration": 42,
    "start_time": "2025-09-28T00:53:13.196Z"
   },
   {
    "duration": 10,
    "start_time": "2025-09-28T00:53:22.991Z"
   },
   {
    "duration": 7,
    "start_time": "2025-09-28T00:53:28.890Z"
   },
   {
    "duration": 5,
    "start_time": "2025-09-28T00:53:31.609Z"
   },
   {
    "duration": 13,
    "start_time": "2025-09-28T00:53:44.236Z"
   },
   {
    "duration": 5,
    "start_time": "2025-09-28T00:53:48.029Z"
   },
   {
    "duration": 6,
    "start_time": "2025-09-28T00:54:06.368Z"
   },
   {
    "duration": 5,
    "start_time": "2025-09-28T00:54:13.534Z"
   },
   {
    "duration": 5,
    "start_time": "2025-09-28T00:54:19.799Z"
   },
   {
    "duration": 6,
    "start_time": "2025-09-28T00:54:28.541Z"
   },
   {
    "duration": 5,
    "start_time": "2025-09-28T00:54:31.297Z"
   },
   {
    "duration": 6,
    "start_time": "2025-09-28T00:54:41.613Z"
   },
   {
    "duration": 5,
    "start_time": "2025-09-28T00:54:57.581Z"
   },
   {
    "duration": 5,
    "start_time": "2025-09-28T00:55:06.744Z"
   },
   {
    "duration": 12,
    "start_time": "2025-09-28T00:55:12.407Z"
   },
   {
    "duration": 4,
    "start_time": "2025-09-28T01:00:48.498Z"
   },
   {
    "duration": 5,
    "start_time": "2025-09-28T01:00:48.828Z"
   },
   {
    "duration": 133,
    "start_time": "2025-09-28T01:00:53.198Z"
   },
   {
    "duration": 3,
    "start_time": "2025-09-28T01:00:57.287Z"
   },
   {
    "duration": 4,
    "start_time": "2025-09-28T01:04:11.202Z"
   },
   {
    "duration": 5,
    "start_time": "2025-09-28T01:04:35.994Z"
   },
   {
    "duration": 3,
    "start_time": "2025-09-28T01:04:43.517Z"
   },
   {
    "duration": 4,
    "start_time": "2025-09-28T01:05:36.714Z"
   },
   {
    "duration": 159,
    "start_time": "2025-09-28T01:05:46.093Z"
   },
   {
    "duration": 129,
    "start_time": "2025-09-28T01:05:58.815Z"
   },
   {
    "duration": 4,
    "start_time": "2025-09-28T01:06:38.466Z"
   },
   {
    "duration": 150,
    "start_time": "2025-09-28T01:06:38.698Z"
   },
   {
    "duration": 8,
    "start_time": "2025-09-28T01:06:49.613Z"
   },
   {
    "duration": 3,
    "start_time": "2025-09-28T01:06:55.962Z"
   },
   {
    "duration": 131,
    "start_time": "2025-09-28T01:06:57.713Z"
   },
   {
    "duration": 124,
    "start_time": "2025-09-28T01:07:10.546Z"
   },
   {
    "duration": 124,
    "start_time": "2025-09-28T01:07:18.838Z"
   },
   {
    "duration": 143,
    "start_time": "2025-09-28T01:08:39.075Z"
   },
   {
    "duration": 152,
    "start_time": "2025-09-28T01:08:56.115Z"
   },
   {
    "duration": 163,
    "start_time": "2025-09-28T01:09:12.514Z"
   },
   {
    "duration": 163,
    "start_time": "2025-09-28T01:09:30.674Z"
   },
   {
    "duration": 5,
    "start_time": "2025-09-28T01:09:38.112Z"
   },
   {
    "duration": 121,
    "start_time": "2025-09-28T01:10:07.050Z"
   },
   {
    "duration": 137,
    "start_time": "2025-09-28T01:10:15.771Z"
   },
   {
    "duration": 140,
    "start_time": "2025-09-28T01:10:25.722Z"
   },
   {
    "duration": 142,
    "start_time": "2025-09-28T01:11:20.697Z"
   },
   {
    "duration": 129,
    "start_time": "2025-09-28T01:11:38.014Z"
   },
   {
    "duration": 139,
    "start_time": "2025-09-28T01:11:42.892Z"
   },
   {
    "duration": 129,
    "start_time": "2025-09-28T01:11:48.940Z"
   },
   {
    "duration": 122,
    "start_time": "2025-09-28T01:11:54.908Z"
   },
   {
    "duration": 158,
    "start_time": "2025-09-28T01:11:59.578Z"
   },
   {
    "duration": 119,
    "start_time": "2025-09-28T01:12:04.156Z"
   },
   {
    "duration": 152,
    "start_time": "2025-09-28T01:12:10.674Z"
   },
   {
    "duration": 149,
    "start_time": "2025-09-28T01:12:18.258Z"
   },
   {
    "duration": 143,
    "start_time": "2025-09-28T01:12:44.186Z"
   },
   {
    "duration": 4,
    "start_time": "2025-09-28T01:13:26.583Z"
   },
   {
    "duration": 163,
    "start_time": "2025-09-28T01:13:33.376Z"
   },
   {
    "duration": 146,
    "start_time": "2025-09-28T01:13:46.688Z"
   },
   {
    "duration": 151,
    "start_time": "2025-09-28T01:13:49.354Z"
   },
   {
    "duration": 153,
    "start_time": "2025-09-28T01:15:20.499Z"
   },
   {
    "duration": 149,
    "start_time": "2025-09-28T01:15:42.063Z"
   },
   {
    "duration": 123,
    "start_time": "2025-09-28T01:15:45.122Z"
   },
   {
    "duration": 156,
    "start_time": "2025-09-28T01:15:53.955Z"
   },
   {
    "duration": 131,
    "start_time": "2025-09-28T01:18:59.333Z"
   },
   {
    "duration": 142,
    "start_time": "2025-09-28T01:19:07.211Z"
   },
   {
    "duration": 4,
    "start_time": "2025-09-28T01:19:53.357Z"
   },
   {
    "duration": 128,
    "start_time": "2025-09-28T01:19:53.929Z"
   },
   {
    "duration": 150,
    "start_time": "2025-09-28T01:20:01.095Z"
   },
   {
    "duration": 128,
    "start_time": "2025-09-28T01:20:40.784Z"
   },
   {
    "duration": 9,
    "start_time": "2025-09-28T01:26:42.341Z"
   },
   {
    "duration": 5,
    "start_time": "2025-09-28T01:29:41.133Z"
   },
   {
    "duration": 5,
    "start_time": "2025-09-28T01:30:01.830Z"
   },
   {
    "duration": 140,
    "start_time": "2025-09-28T01:30:14.120Z"
   },
   {
    "duration": 131,
    "start_time": "2025-09-28T01:32:31.726Z"
   },
   {
    "duration": 160,
    "start_time": "2025-09-28T01:34:34.765Z"
   },
   {
    "duration": 162,
    "start_time": "2025-09-28T01:34:48.245Z"
   },
   {
    "duration": 163,
    "start_time": "2025-09-28T01:35:00.142Z"
   },
   {
    "duration": 128,
    "start_time": "2025-09-28T01:37:41.023Z"
   },
   {
    "duration": 534,
    "start_time": "2025-09-28T01:37:59.330Z"
   },
   {
    "duration": 25,
    "start_time": "2025-09-28T01:37:59.867Z"
   },
   {
    "duration": 20,
    "start_time": "2025-09-28T01:37:59.894Z"
   },
   {
    "duration": 5,
    "start_time": "2025-09-28T01:37:59.915Z"
   },
   {
    "duration": 682,
    "start_time": "2025-09-28T01:37:59.922Z"
   },
   {
    "duration": 5,
    "start_time": "2025-09-28T01:38:00.608Z"
   },
   {
    "duration": 3,
    "start_time": "2025-09-28T01:38:00.615Z"
   },
   {
    "duration": 6,
    "start_time": "2025-09-28T01:38:00.621Z"
   },
   {
    "duration": 76,
    "start_time": "2025-09-28T01:38:00.630Z"
   },
   {
    "duration": 308,
    "start_time": "2025-09-28T01:38:00.707Z"
   },
   {
    "duration": 9,
    "start_time": "2025-09-28T01:38:01.017Z"
   },
   {
    "duration": 207,
    "start_time": "2025-09-28T01:38:01.029Z"
   },
   {
    "duration": 36,
    "start_time": "2025-09-28T01:59:59.481Z"
   },
   {
    "duration": 39,
    "start_time": "2025-09-28T02:00:02.645Z"
   },
   {
    "duration": 28,
    "start_time": "2025-09-28T02:00:15.317Z"
   },
   {
    "duration": 34,
    "start_time": "2025-09-28T02:00:18.917Z"
   },
   {
    "duration": 6,
    "start_time": "2025-09-28T02:01:05.400Z"
   }
  ],
  "kernelspec": {
   "display_name": "Python 3 (ipykernel)",
   "language": "python",
   "name": "python3"
  },
  "language_info": {
   "codemirror_mode": {
    "name": "ipython",
    "version": 3
   },
   "file_extension": ".py",
   "mimetype": "text/x-python",
   "name": "python",
   "nbconvert_exporter": "python",
   "pygments_lexer": "ipython3",
   "version": "3.13.5"
  },
  "toc": {
   "base_numbering": 1,
   "nav_menu": {},
   "number_sections": true,
   "sideBar": true,
   "skip_h1_title": true,
   "title_cell": "Table of Contents",
   "title_sidebar": "Contents",
   "toc_cell": false,
   "toc_position": {},
   "toc_section_display": true,
   "toc_window_display": false
  }
 },
 "nbformat": 4,
 "nbformat_minor": 4
}
